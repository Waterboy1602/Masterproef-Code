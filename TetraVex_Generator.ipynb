{
 "cells": [
  {
   "cell_type": "code",
   "execution_count": 1,
   "metadata": {},
   "outputs": [],
   "source": [
    "#!/usr/bin/env python3\n",
    "\n",
    "import random\n",
    "import numpy as np"
   ]
  },
  {
   "cell_type": "code",
   "execution_count": 2,
   "metadata": {},
   "outputs": [],
   "source": [
    "# Generate pieces\n",
    "def generatePieces(sizeGrid):\n",
    "    grid = []\n",
    "    for i in range(0, sizeGrid):\n",
    "        row = []\n",
    "        for j in range(0, sizeGrid):\n",
    "            piece = []\n",
    "            piece.extend(random.randint(0, 9) for _ in range(4))\n",
    "            if (j > 0):\n",
    "                piece[3] = row[j - 1][1]\n",
    "            if (i > 0): \n",
    "                piece[0] = grid[i - 1][j][2]\n",
    "            row.append(piece)  \n",
    "        grid.append(row)\n",
    "    return grid\n",
    "\n",
    "def shufflePieces(grid, sizeGrid):\n",
    "    grid1D = []\n",
    "    for i in range(0, sizeGrid):\n",
    "        for j in range(0, sizeGrid):\n",
    "            grid1D.append(grid[i][j])\n",
    "    random.shuffle(grid1D) \n",
    "    return grid1D"
   ]
  },
  {
   "cell_type": "code",
   "execution_count": 3,
   "metadata": {},
   "outputs": [],
   "source": [
    "# Write the board to txt-file\n",
    "def writeBoardToFile(grid, sizeGrid, dim):\n",
    "    if(dim == 1):\n",
    "        textFileName = \"TetraVex_\" + str(sizeGrid) + \"x\" + str(sizeGrid) + \".txt\"\n",
    "        textFile = open(\"./dataFiles/\" + textFileName, \"w\")\n",
    "        for i in range(0, sizeGrid * sizeGrid):\n",
    "            textFile.write(str(grid[i][0]) + \" \" + str(grid[i][1]) + \" \" + str(grid[i][2]) + \" \" + str(grid[i][3]))\n",
    "            textFile.write(\"\\n\")\n",
    "    elif(dim == 2):\n",
    "        textFileName = \"TetraVex_\" + str(sizeGrid) + \"x\" + str(sizeGrid) + \"_Solution.txt\"\n",
    "        textFile = open(\"./dataFiles/\" + textFileName, \"w\")\n",
    "        for i in range(0, sizeGrid):\n",
    "            for j in range(0, sizeGrid):\n",
    "                textFile.write(str(grid[i][j][0]) + \" \" + str(grid[i][j][1]) + \" \" + str(grid[i][j][2]) + \" \" + str(grid[i][j][3]))\n",
    "                textFile.write(\"\\n\")\n",
    "    textFile.close()"
   ]
  },
  {
   "cell_type": "code",
   "execution_count": 4,
   "metadata": {},
   "outputs": [],
   "source": [
    "\n",
    "def generateSolvableBoard(sizeGrid):\n",
    "    grid = generatePieces(sizeGrid)\n",
    "    writeBoardToFile(grid, sizeGrid, 2)\n",
    "    grid1D = shufflePieces(grid, sizeGrid)\n",
    "    writeBoardToFile(grid1D, sizeGrid, 1)\n",
    "    print(\"Generated a board of size \" + str(sizeGrid) + \"x\" + str(sizeGrid) + \" and wrote it to a file.\")"
   ]
  },
  {
   "cell_type": "code",
   "execution_count": 10,
   "metadata": {},
   "outputs": [
    {
     "name": "stdout",
     "output_type": "stream",
     "text": [
      "Generated a board of size 10x10 and wrote it to a file.\n"
     ]
    }
   ],
   "source": [
    "sizeGrid = 10\n",
    "generateSolvableBoard(sizeGrid)"
   ]
  }
 ],
 "metadata": {
  "kernelspec": {
   "display_name": ".venv",
   "language": "python",
   "name": "python3"
  },
  "language_info": {
   "codemirror_mode": {
    "name": "ipython",
    "version": 3
   },
   "file_extension": ".py",
   "mimetype": "text/x-python",
   "name": "python",
   "nbconvert_exporter": "python",
   "pygments_lexer": "ipython3",
   "version": "3.12.2"
  }
 },
 "nbformat": 4,
 "nbformat_minor": 2
}
