{
 "cells": [
  {
   "cell_type": "markdown",
   "metadata": {
    "slideshow": {
     "slide_type": "slide"
    }
   },
   "source": [
    "### Let's solve MAXCUT on a simple graph\n",
    "\n",
    "Recall the MAXCUT objective is $\\max_{\\mathbb{s}}\\frac{1}{2}\\sum_{ij\\in E}(1-s_is_j)$\n",
    "\n",
    "Before going further, let's reformulate it:\n",
    "\n",
    "$\\frac{1}{2}\\sum_{ij\\in E}(1-s_is_j) = \\frac{1}{2}\\sum_{ij\\in E}(-s_is_j) + const$\n",
    "\n",
    "Therefore the above _maximization_ problem is equivalent to the problem below:\n",
    "\n",
    "$\\max_{\\mathbb{s}}\\sum_{ij\\in E}(-s_is_j)$"
   ]
  },
  {
   "cell_type": "markdown",
   "metadata": {
    "slideshow": {
     "slide_type": "slide"
    }
   },
   "source": [
    "### Constructing the Hamiltonian\n",
    "\n",
    "MAXCUT is equivalent to the problem below:\n",
    "\n",
    "$\\max_{\\mathbb{s}}\\sum_{ij\\in E}(-s_is_j)$\n",
    "\n",
    "We've seen earlier that the Hamiltonian can be constructed by mapping binary variables $s_i$ onto the eigenvalues of $Z$. For the above maximization problem has the following Hamiltonian:\n",
    "\n",
    "$\\sum_{ij\\in E}(-Z_iZ_j)$"
   ]
  },
  {
   "cell_type": "markdown",
   "metadata": {
    "slideshow": {
     "slide_type": "slide"
    }
   },
   "source": [
    "### Constructing QAOA circuit\n",
    "\n",
    "Cost Hamiltonian: $C = \\sum_{ij\\in E}(-Z_iZ_j)$\n",
    "\n",
    "The full QAOA circuit:\n",
    "\n",
    "$|\\psi{(\\mathbb{\\beta},\\mathbb{\\gamma})}> =  e^{-i\\beta_p B}e^{-i\\gamma_p C}\\cdots e^{-i\\beta_1 B}e^{-i\\gamma_1 C} H^{\\otimes n} |0>$\n",
    "\n",
    "Need to implement cost operator $e^{-i\\gamma_p C}$ and mixer operator $e^{-i\\beta_p B}$"
   ]
  },
  {
   "cell_type": "markdown",
   "metadata": {
    "slideshow": {
     "slide_type": "slide"
    }
   },
   "source": [
    "### Let's beging by importing everything we'll need later"
   ]
  },
  {
   "cell_type": "code",
   "execution_count": 1,
   "metadata": {
    "slideshow": {
     "slide_type": "-"
    }
   },
   "outputs": [],
   "source": [
    "import numpy as np\n",
    "import networkx as nx\n",
    "import matplotlib.pyplot as plt\n",
    "from collections import defaultdict\n",
    "from operator import itemgetter\n",
    "from scipy.optimize import minimize\n",
    "from qiskit import QuantumCircuit"
   ]
  },
  {
   "cell_type": "markdown",
   "metadata": {
    "slideshow": {
     "slide_type": "slide"
    }
   },
   "source": [
    "### Consider the following graph"
   ]
  },
  {
   "cell_type": "code",
   "execution_count": 2,
   "metadata": {},
   "outputs": [
    {
     "data": {
      "image/png": "[encoded data removed]",
      "text/plain": [
       "<Figure size 640x480 with 1 Axes>"
      ]
     },
     "metadata": {},
     "output_type": "display_data"
    }
   ],
   "source": [
    "G = nx.Graph()\n",
    "G.add_edges_from([[0,3],[0,4],[1,3],[1,4],[2,3],[2,4]])\n",
    "nx.draw(G, pos=nx.bipartite_layout(G, [0,1,2]))"
   ]
  },
  {
   "cell_type": "markdown",
   "metadata": {
    "slideshow": {
     "slide_type": "slide"
    }
   },
   "source": [
    "### We can now build the circuit for cost operator\n",
    "\n",
    "Cost operator $ e^{-i\\gamma_p C} = e^{-i\\gamma_p \\sum_{ij\\in E}(-Z_iZ_j)}$\n",
    "\n",
    "Note that later we will see how to do this more efficiently in Qiskit"
   ]
  },
  {
   "cell_type": "code",
   "execution_count": 3,
   "metadata": {
    "slideshow": {
     "slide_type": "-"
    }
   },
   "outputs": [],
   "source": [
    "def append_zz_term(qc, q1, q2, gamma):\n",
    "    qc.cx(q1,q2)\n",
    "    qc.rz(2*gamma, q2)\n",
    "    qc.cx(q1,q2)\n",
    "\n",
    "def append_cost_operator_circuit(qc, G, gamma):\n",
    "    for i, j in G.edges():\n",
    "        append_zz_term(qc, i, j, gamma)\n",
    "    "
   ]
  },
  {
   "cell_type": "markdown",
   "metadata": {
    "slideshow": {
     "slide_type": "slide"
    }
   },
   "source": [
    "### Let's verify that our function produces the correct circuit\n",
    "\n",
    "Cost operator $e^{-i\\gamma_p C} = e^{-i\\gamma_p \\sum_{ij\\in E}(-Z_iZ_j)}$"
   ]
  },
  {
   "cell_type": "code",
   "execution_count": 4,
   "metadata": {},
   "outputs": [
    {
     "data": {
      "text/html": [
       "<pre style=\"word-wrap: normal;white-space: pre;background: #fff0;line-height: 1.1;font-family: &quot;Courier New&quot;,Courier,monospace\">                                                                            »\n",
       "q_0: ──■────────────────■────■────────────────────────────■─────────────────»\n",
       "       │                │    │     ┌───┐    ┌──────────┐  │  ┌───┐     ┌───┐»\n",
       "q_1: ──┼────────────────┼────┼─────┤ X ├────┤ Rz(2π/3) ├──┼──┤ X ├─────┤ X ├»\n",
       "       │                │    │     └─┬─┘    └──────────┘  │  └─┬─┘┌───┐└─┬─┘»\n",
       "q_2: ──┼────────────────┼────┼───────┼────────────────────┼────┼──┤ X ├──┼──»\n",
       "     ┌─┴─┐┌──────────┐┌─┴─┐  │       │                    │    │  └─┬─┘  │  »\n",
       "q_3: ┤ X ├┤ Rz(2π/3) ├┤ X ├──┼───────■────────────────────┼────■────■────┼──»\n",
       "     └───┘└──────────┘└───┘┌─┴─┐┌──────────┐            ┌─┴─┐            │  »\n",
       "q_4: ──────────────────────┤ X ├┤ Rz(2π/3) ├────────────┤ X ├────────────■──»\n",
       "                           └───┘└──────────┘            └───┘               »\n",
       "«                                                 \n",
       "«q_0: ────────────────────────────────────────────\n",
       "«     ┌──────────┐     ┌───┐                      \n",
       "«q_1: ┤ Rz(2π/3) ├─────┤ X ├──────────────────────\n",
       "«     ├──────────┤┌───┐└─┬─┘┌───┐┌──────────┐┌───┐\n",
       "«q_2: ┤ Rz(2π/3) ├┤ X ├──┼──┤ X ├┤ Rz(2π/3) ├┤ X ├\n",
       "«     └──────────┘└─┬─┘  │  └─┬─┘└──────────┘└─┬─┘\n",
       "«q_3: ──────────────■────┼────┼────────────────┼──\n",
       "«                        │    │                │  \n",
       "«q_4: ───────────────────■────■────────────────■──\n",
       "«                                                 </pre>"
      ],
      "text/plain": [
       "                                                                            »\n",
       "q_0: ──■────────────────■────■────────────────────────────■─────────────────»\n",
       "       │                │    │     ┌───┐    ┌──────────┐  │  ┌───┐     ┌───┐»\n",
       "q_1: ──┼────────────────┼────┼─────┤ X ├────┤ Rz(2π/3) ├──┼──┤ X ├─────┤ X ├»\n",
       "       │                │    │     └─┬─┘    └──────────┘  │  └─┬─┘┌───┐└─┬─┘»\n",
       "q_2: ──┼────────────────┼────┼───────┼────────────────────┼────┼──┤ X ├──┼──»\n",
       "     ┌─┴─┐┌──────────┐┌─┴─┐  │       │                    │    │  └─┬─┘  │  »\n",
       "q_3: ┤ X ├┤ Rz(2π/3) ├┤ X ├──┼───────■────────────────────┼────■────■────┼──»\n",
       "     └───┘└──────────┘└───┘┌─┴─┐┌──────────┐            ┌─┴─┐            │  »\n",
       "q_4: ──────────────────────┤ X ├┤ Rz(2π/3) ├────────────┤ X ├────────────■──»\n",
       "                           └───┘└──────────┘            └───┘               »\n",
       "«                                                 \n",
       "«q_0: ────────────────────────────────────────────\n",
       "«     ┌──────────┐     ┌───┐                      \n",
       "«q_1: ┤ Rz(2π/3) ├─────┤ X ├──────────────────────\n",
       "«     ├──────────┤┌───┐└─┬─┘┌───┐┌──────────┐┌───┐\n",
       "«q_2: ┤ Rz(2π/3) ├┤ X ├──┼──┤ X ├┤ Rz(2π/3) ├┤ X ├\n",
       "«     └──────────┘└─┬─┘  │  └─┬─┘└──────────┘└─┬─┘\n",
       "«q_3: ──────────────■────┼────┼────────────────┼──\n",
       "«                        │    │                │  \n",
       "«q_4: ───────────────────■────■────────────────■──\n",
       "«                                                 "
      ]
     },
     "execution_count": 4,
     "metadata": {},
     "output_type": "execute_result"
    }
   ],
   "source": [
    "N = G.number_of_nodes()\n",
    "qc = QuantumCircuit(N)\n",
    "append_cost_operator_circuit(qc, G, np.pi / 3)\n",
    "qc.draw()"
   ]
  },
  {
   "cell_type": "markdown",
   "metadata": {
    "slideshow": {
     "slide_type": "slide"
    }
   },
   "source": [
    "### Now we need to build mixer operator\n",
    "\n",
    "Mixer operator: $e^{-i\\beta_p B} = e^{-i\\beta_p \\sum_{i\\in V}X_i} = e^{-i\\beta_p X_0}e^{-i\\beta_p X_1}e^{-i\\beta_p X_2}e^{-i\\beta_p X_3}$"
   ]
  },
  {
   "cell_type": "code",
   "execution_count": 5,
   "metadata": {
    "slideshow": {
     "slide_type": "fragment"
    }
   },
   "outputs": [],
   "source": [
    "def append_x_term(qc, q1, beta):\n",
    "    qc.rx(2*beta, q1)\n",
    "\n",
    "def append_mixer_operator_circuit(qc, G, beta):\n",
    "    for n in G.nodes():\n",
    "        append_x_term(qc, n, beta)\n",
    "    return qc\n"
   ]
  },
  {
   "cell_type": "markdown",
   "metadata": {
    "slideshow": {
     "slide_type": "slide"
    }
   },
   "source": [
    "### Let's verify the circuit\n",
    "\n",
    "Mixer operator: $e^{-i\\beta_p B} = e^{-i\\beta_p \\sum_{i\\in V}X_i} = e^{-i\\beta_p X_0}e^{-i\\beta_p X_1}e^{-i\\beta_p X_2}e^{-i\\beta_p X_3}e^{-i\\beta_p X_4}$"
   ]
  },
  {
   "cell_type": "code",
   "execution_count": 6,
   "metadata": {},
   "outputs": [
    {
     "data": {
      "text/html": [
       "<pre style=\"word-wrap: normal;white-space: pre;background: #fff0;line-height: 1.1;font-family: &quot;Courier New&quot;,Courier,monospace\">     ┌──────────┐\n",
       "q_0: ┤ Rx(2π/3) ├\n",
       "     ├──────────┤\n",
       "q_1: ┤ Rx(2π/3) ├\n",
       "     ├──────────┤\n",
       "q_2: ┤ Rx(2π/3) ├\n",
       "     ├──────────┤\n",
       "q_3: ┤ Rx(2π/3) ├\n",
       "     ├──────────┤\n",
       "q_4: ┤ Rx(2π/3) ├\n",
       "     └──────────┘</pre>"
      ],
      "text/plain": [
       "     ┌──────────┐\n",
       "q_0: ┤ Rx(2π/3) ├\n",
       "     ├──────────┤\n",
       "q_1: ┤ Rx(2π/3) ├\n",
       "     ├──────────┤\n",
       "q_2: ┤ Rx(2π/3) ├\n",
       "     ├──────────┤\n",
       "q_3: ┤ Rx(2π/3) ├\n",
       "     ├──────────┤\n",
       "q_4: ┤ Rx(2π/3) ├\n",
       "     └──────────┘"
      ]
     },
     "execution_count": 6,
     "metadata": {},
     "output_type": "execute_result"
    }
   ],
   "source": [
    "N = G.number_of_nodes()\n",
    "qc = QuantumCircuit(N)\n",
    "append_mixer_operator_circuit(qc, G, np.pi/3)\n",
    "qc.draw()"
   ]
  },
  {
   "cell_type": "markdown",
   "metadata": {
    "slideshow": {
     "slide_type": "slide"
    }
   },
   "source": [
    "### Now we are ready to build the full circuit\n",
    "\n",
    "$|\\psi{(\\mathbb{\\beta},\\mathbb{\\gamma})}> =  e^{-i\\beta_p B}e^{-i\\gamma_p C}\\cdots e^{-i\\beta_1 B}e^{-i\\gamma_1 C} H^{\\otimes n} |0>$"
   ]
  },
  {
   "cell_type": "code",
   "execution_count": 7,
   "metadata": {},
   "outputs": [],
   "source": [
    "def get_qaoa_circuit(G, beta, gamma):\n",
    "    assert(len(beta) == len(gamma))\n",
    "    p = len(beta) # infering number of QAOA steps from the parameters passed\n",
    "    N = G.number_of_nodes()\n",
    "    qc = QuantumCircuit(N,N)\n",
    "    # first, apply a layer of Hadamards\n",
    "    qc.h(range(N))\n",
    "    # second, apply p alternating operators\n",
    "    for i in range(p):\n",
    "        append_cost_operator_circuit(qc, G, beta[i])\n",
    "        append_mixer_operator_circuit(qc, G, gamma[i])\n",
    "    # finally, do not forget to measure the result!\n",
    "    qc.barrier(range(N))\n",
    "    qc.measure(range(N), range(N))\n",
    "    return qc"
   ]
  },
  {
   "cell_type": "markdown",
   "metadata": {
    "slideshow": {
     "slide_type": "slide"
    }
   },
   "source": [
    "### Let's verify that circuit looks right\n",
    "\n",
    "$|\\psi{(\\mathbb{\\beta},\\mathbb{\\gamma})}> =  e^{-i\\beta_p B}e^{-i\\gamma_p C}\\cdots e^{-i\\beta_1 B}e^{-i\\gamma_1 C} H^{\\otimes n} |0>$"
   ]
  },
  {
   "cell_type": "code",
   "execution_count": 8,
   "metadata": {},
   "outputs": [
    {
     "data": {
      "text/html": [
       "<pre style=\"word-wrap: normal;white-space: pre;background: #fff0;line-height: 1.1;font-family: &quot;Courier New&quot;,Courier,monospace\">     ┌───┐                                                        ┌───────┐»\n",
       "q_0: ┤ H ├──■────────────────■────■────────────────────────────■──┤ Rx(π) ├»\n",
       "     ├───┤  │                │    │     ┌───┐    ┌──────────┐  │  └─┬───┬─┘»\n",
       "q_1: ┤ H ├──┼────────────────┼────┼─────┤ X ├────┤ Rz(2π/3) ├──┼────┤ X ├──»\n",
       "     ├───┤  │                │    │     └─┬─┘    └──────────┘  │    └─┬─┘  »\n",
       "q_2: ┤ H ├──┼────────────────┼────┼───────┼────────────────────┼──────┼────»\n",
       "     ├───┤┌─┴─┐┌──────────┐┌─┴─┐  │       │                    │      │    »\n",
       "q_3: ┤ H ├┤ X ├┤ Rz(2π/3) ├┤ X ├──┼───────■────────────────────┼──────■────»\n",
       "     ├───┤└───┘└──────────┘└───┘┌─┴─┐┌──────────┐            ┌─┴─┐         »\n",
       "q_4: ┤ H ├──────────────────────┤ X ├┤ Rz(2π/3) ├────────────┤ X ├─────────»\n",
       "     └───┘                      └───┘└──────────┘            └───┘         »\n",
       "c: 5/══════════════════════════════════════════════════════════════════════»\n",
       "                                                                           »\n",
       "«                                                                         ░ ┌─┐»\n",
       "«q_0: ────────────────────────────────────────────────────────────────────░─┤M├»\n",
       "«          ┌───┐┌──────────┐     ┌───┐┌───────┐                           ░ └╥┘»\n",
       "«q_1: ─────┤ X ├┤ Rz(2π/3) ├─────┤ X ├┤ Rx(π) ├───────────────────────────░──╫─»\n",
       "«     ┌───┐└─┬─┘├──────────┤┌───┐└─┬─┘└─┬───┬─┘┌──────────┐┌───┐┌───────┐ ░  ║ »\n",
       "«q_2: ┤ X ├──┼──┤ Rz(2π/3) ├┤ X ├──┼────┤ X ├──┤ Rz(2π/3) ├┤ X ├┤ Rx(π) ├─░──╫─»\n",
       "«     └─┬─┘  │  └──────────┘└─┬─┘  │    └─┬─┘  └┬───────┬─┘└─┬─┘└───────┘ ░  ║ »\n",
       "«q_3: ──■────┼────────────────■────┼──────┼─────┤ Rx(π) ├────┼────────────░──╫─»\n",
       "«            │                     │      │     └───────┘    │  ┌───────┐ ░  ║ »\n",
       "«q_4: ───────■─────────────────────■──────■──────────────────■──┤ Rx(π) ├─░──╫─»\n",
       "«                                                               └───────┘ ░  ║ »\n",
       "«c: 5/═══════════════════════════════════════════════════════════════════════╩═»\n",
       "«                                                                            0 »\n",
       "«                 \n",
       "«q_0: ────────────\n",
       "«     ┌─┐         \n",
       "«q_1: ┤M├─────────\n",
       "«     └╥┘┌─┐      \n",
       "«q_2: ─╫─┤M├──────\n",
       "«      ║ └╥┘┌─┐   \n",
       "«q_3: ─╫──╫─┤M├───\n",
       "«      ║  ║ └╥┘┌─┐\n",
       "«q_4: ─╫──╫──╫─┤M├\n",
       "«      ║  ║  ║ └╥┘\n",
       "«c: 5/═╩══╩══╩══╩═\n",
       "«      1  2  3  4 </pre>"
      ],
      "text/plain": [
       "     ┌───┐                                                        ┌───────┐»\n",
       "q_0: ┤ H ├──■────────────────■────■────────────────────────────■──┤ Rx(π) ├»\n",
       "     ├───┤  │                │    │     ┌───┐    ┌──────────┐  │  └─┬───┬─┘»\n",
       "q_1: ┤ H ├──┼────────────────┼────┼─────┤ X ├────┤ Rz(2π/3) ├──┼────┤ X ├──»\n",
       "     ├───┤  │                │    │     └─┬─┘    └──────────┘  │    └─┬─┘  »\n",
       "q_2: ┤ H ├──┼────────────────┼────┼───────┼────────────────────┼──────┼────»\n",
       "     ├───┤┌─┴─┐┌──────────┐┌─┴─┐  │       │                    │      │    »\n",
       "q_3: ┤ H ├┤ X ├┤ Rz(2π/3) ├┤ X ├──┼───────■────────────────────┼──────■────»\n",
       "     ├───┤└───┘└──────────┘└───┘┌─┴─┐┌──────────┐            ┌─┴─┐         »\n",
       "q_4: ┤ H ├──────────────────────┤ X ├┤ Rz(2π/3) ├────────────┤ X ├─────────»\n",
       "     └───┘                      └───┘└──────────┘            └───┘         »\n",
       "c: 5/══════════════════════════════════════════════════════════════════════»\n",
       "                                                                           »\n",
       "«                                                                         ░ ┌─┐»\n",
       "«q_0: ────────────────────────────────────────────────────────────────────░─┤M├»\n",
       "«          ┌───┐┌──────────┐     ┌───┐┌───────┐                           ░ └╥┘»\n",
       "«q_1: ─────┤ X ├┤ Rz(2π/3) ├─────┤ X ├┤ Rx(π) ├───────────────────────────░──╫─»\n",
       "«     ┌───┐└─┬─┘├──────────┤┌───┐└─┬─┘└─┬───┬─┘┌──────────┐┌───┐┌───────┐ ░  ║ »\n",
       "«q_2: ┤ X ├──┼──┤ Rz(2π/3) ├┤ X ├──┼────┤ X ├──┤ Rz(2π/3) ├┤ X ├┤ Rx(π) ├─░──╫─»\n",
       "«     └─┬─┘  │  └──────────┘└─┬─┘  │    └─┬─┘  └┬───────┬─┘└─┬─┘└───────┘ ░  ║ »\n",
       "«q_3: ──■────┼────────────────■────┼──────┼─────┤ Rx(π) ├────┼────────────░──╫─»\n",
       "«            │                     │      │     └───────┘    │  ┌───────┐ ░  ║ »\n",
       "«q_4: ───────■─────────────────────■──────■──────────────────■──┤ Rx(π) ├─░──╫─»\n",
       "«                                                               └───────┘ ░  ║ »\n",
       "«c: 5/═══════════════════════════════════════════════════════════════════════╩═»\n",
       "«                                                                            0 »\n",
       "«                 \n",
       "«q_0: ────────────\n",
       "«     ┌─┐         \n",
       "«q_1: ┤M├─────────\n",
       "«     └╥┘┌─┐      \n",
       "«q_2: ─╫─┤M├──────\n",
       "«      ║ └╥┘┌─┐   \n",
       "«q_3: ─╫──╫─┤M├───\n",
       "«      ║  ║ └╥┘┌─┐\n",
       "«q_4: ─╫──╫──╫─┤M├\n",
       "«      ║  ║  ║ └╥┘\n",
       "«c: 5/═╩══╩══╩══╩═\n",
       "«      1  2  3  4 "
      ]
     },
     "execution_count": 8,
     "metadata": {},
     "output_type": "execute_result"
    }
   ],
   "source": [
    "qc = get_qaoa_circuit(G,[np.pi/3], [np.pi/2])\n",
    "qc.draw()"
   ]
  },
  {
   "cell_type": "markdown",
   "metadata": {
    "slideshow": {
     "slide_type": "slide"
    }
   },
   "source": [
    "### Running a circuit in Qiskit\n",
    "\n",
    "For the purposes of this tutorial, we will be running the circuits in simulator. To run your circuits on real IBM quantum computers, all you need to do is change the backend. However, the devices are noisy, so there might be dragons!"
   ]
  },
  {
   "cell_type": "markdown",
   "metadata": {
    "slideshow": {
     "slide_type": "fragment"
    }
   },
   "source": [
    "#### Qiskit qubit ordering\n",
    "\n",
    "Note that Qiskit uses an ordering where zeroth qubit is the rightmost (the least significant bit in the bistring),\n",
    "so we need to invert the samples we received"
   ]
  },
  {
   "cell_type": "code",
   "execution_count": 9,
   "metadata": {},
   "outputs": [],
   "source": [
    "def invert_counts(counts):\n",
    "    return {k[::-1]:v for k, v in counts.items()}"
   ]
  },
  {
   "cell_type": "markdown",
   "metadata": {
    "slideshow": {
     "slide_type": "slide"
    }
   },
   "source": [
    "Now we can run the circuit"
   ]
  },
  {
   "cell_type": "code",
   "execution_count": 10,
   "metadata": {
    "slideshow": {
     "slide_type": "-"
    }
   },
   "outputs": [
    {
     "name": "stdout",
     "output_type": "stream",
     "text": [
      "[ClassicalRegister(5, 'c')]\n",
      "{'01101': 26, '00110': 32, '01100': 28, '11101': 36, '10100': 34, '10111': 29, '11001': 34, '11011': 26, '00101': 40, '10010': 26, '01111': 27, '10110': 40, '00111': 43, '10011': 30, '11110': 23, '11000': 43, '00011': 27, '01010': 29, '10001': 27, '00001': 27, '11111': 30, '00100': 33, '01110': 38, '01011': 22, '11010': 29, '01000': 28, '00000': 33, '10101': 36, '11100': 40, '10000': 37, '01001': 27, '00010': 44}\n"
     ]
    }
   ],
   "source": [
    "# TODO Gefoefeld om met de laatste versie van qiskit te werken\n",
    "# Werkt momenteel nog niet\n",
    "\n",
    "from qiskit_ibm_runtime import QiskitRuntimeService, EstimatorV2, Options\n",
    "from qiskit_aer import AerSimulator\n",
    "from qiskit.transpiler.preset_passmanagers import generate_preset_pass_manager\n",
    "from qiskit_ibm_runtime import SamplerV2 as Sampler\n",
    "from qiskit.primitives import Estimator\n",
    " \n",
    "estimator = Estimator()\n",
    "service = QiskitRuntimeService()\n",
    " \n",
    "# Specify a system to use for the noise model\n",
    "real_backend = service.backend(\"ibm_brisbane\")\n",
    "aer = AerSimulator.from_backend(real_backend)\n",
    " \n",
    "# Run the sampler job locally using AerSimulator.\n",
    "pm = generate_preset_pass_manager(backend=aer, optimization_level=1)\n",
    "isa_qc = pm.run(qc)\n",
    "sampler = Sampler(backend=aer)\n",
    "result = sampler.run([isa_qc]).result() \n",
    "print(isa_qc.cregs)\n",
    "# print(result.values)\n",
    "\n",
    "resultCount = result[0].data.c.get_counts()\n",
    "print(resultCount)\n"
   ]
  },
  {
   "cell_type": "markdown",
   "metadata": {
    "slideshow": {
     "slide_type": "slide"
    }
   },
   "source": [
    "### How good were these results?\n",
    "\n",
    "To answer that, we need to compute $<\\psi|C|\\psi>$. Luckily, C is a classical Hamiltonian, so we can do this easily. We are going to compute -1 times the value of the cut because by convention classical optimizers minimize (this will come up shortly)."
   ]
  },
  {
   "cell_type": "code",
   "execution_count": 11,
   "metadata": {},
   "outputs": [
    {
     "data": {
      "text/plain": [
       "-6"
      ]
     },
     "execution_count": 11,
     "metadata": {},
     "output_type": "execute_result"
    }
   ],
   "source": [
    "def maxcut_obj(x,G):\n",
    "    cut = 0\n",
    "    for i, j in G.edges():\n",
    "        if x[i] != x[j]:\n",
    "            # the edge is cut\n",
    "            cut -= 1\n",
    "    return cut\n",
    "\n",
    "maxcut_obj('00011', G)"
   ]
  },
  {
   "cell_type": "markdown",
   "metadata": {
    "slideshow": {
     "slide_type": "slide"
    }
   },
   "source": [
    "### Estimate energy from the sample"
   ]
  },
  {
   "cell_type": "code",
   "execution_count": 12,
   "metadata": {
    "slideshow": {
     "slide_type": "-"
    }
   },
   "outputs": [
    {
     "data": {
      "text/plain": [
       "-3.080078125"
      ]
     },
     "execution_count": 12,
     "metadata": {},
     "output_type": "execute_result"
    }
   ],
   "source": [
    "def compute_maxcut_energy(counts, G):\n",
    "    energy = 0\n",
    "    total_counts = 0\n",
    "    for meas, meas_count in counts.items():\n",
    "        obj_for_meas = maxcut_obj(meas, G)\n",
    "        energy += obj_for_meas * meas_count\n",
    "        total_counts += meas_count\n",
    "    return energy / total_counts\n",
    "\n",
    "compute_maxcut_energy(invert_counts(resultCount), G)"
   ]
  },
  {
   "cell_type": "markdown",
   "metadata": {
    "slideshow": {
     "slide_type": "slide"
    }
   },
   "source": [
    "### Putting all the pieces together\n",
    "\n",
    "As you remember, we run QAOA as a variational algorithm, so we will need a classical optimizer to optimize the parameters $\\beta$, $\\gamma$. We will use Constrained Optimization BY Linear Approximation (COBYLA) from `scipy.optimize`.\n",
    "\n",
    "We need to wrap our circuit into a black-box objective function `f` that COBYLA could optimize. Note that by convention all optimizers perform _minimization_, so we had to put a minus sign in front of our objective earlier."
   ]
  },
  {
   "cell_type": "code",
   "execution_count": 13,
   "metadata": {},
   "outputs": [],
   "source": [
    "def get_black_box_objective(G,p):\n",
    "    # backend = AerSimulator.get_backend('qasm_simulator')\n",
    "    def f(theta):\n",
    "        # let's assume first half is betas, second half is gammas\n",
    "        beta = theta[:p]\n",
    "        gamma = theta[p:]\n",
    "        qc = get_qaoa_circuit(G, beta, gamma)\n",
    "        pm = generate_preset_pass_manager(backend=aer, optimization_level=1)\n",
    "        isa_qc = pm.run(qc)\n",
    "        sampler = Sampler(backend=aer)\n",
    "        counts = sampler.run([isa_qc]).result()[0].data.c.get_counts() \n",
    "        # counts = execute(qc, aer, seed_simulator=10).result().get_counts()\n",
    "        # return the energy\n",
    "        return compute_maxcut_energy(invert_counts(counts), G)\n",
    "    return f"
   ]
  },
  {
   "cell_type": "markdown",
   "metadata": {
    "slideshow": {
     "slide_type": "slide"
    }
   },
   "source": [
    "### Now we can run the optimizer to get optimal parameters!"
   ]
  },
  {
   "cell_type": "code",
   "execution_count": 14,
   "metadata": {},
   "outputs": [
    {
     "data": {
      "text/plain": [
       " message: Optimization terminated successfully.\n",
       " success: True\n",
       "  status: 1\n",
       "     fun: -4.0419921875\n",
       "       x: [ 1.856e+00  2.089e+00  8.891e-01  2.012e+00  3.610e-01\n",
       "            2.528e+00  6.138e+00  2.421e+00  3.940e+00  5.996e+00]\n",
       "    nfev: 92\n",
       "   maxcv: 0.0"
      ]
     },
     "execution_count": 14,
     "metadata": {},
     "output_type": "execute_result"
    }
   ],
   "source": [
    "# p is the number of QAOA alternating operators\n",
    "p = 5\n",
    "obj = get_black_box_objective(G, p)\n",
    "\n",
    "init_point = np.array([0.81069872, 2.2067517 , 0.83830696, 2.15579759, 0.37060699,\n",
    "       2.42068091, 6.1575306 , 2.2453419 , 3.85060091, 6.137845  ])\n",
    "# We are going to limit the number of iterations to 2500\n",
    "res_sample = minimize(obj, init_point, method='COBYLA', options={'maxiter':2500, 'disp': True})\n",
    "res_sample"
   ]
  },
  {
   "cell_type": "markdown",
   "metadata": {
    "slideshow": {
     "slide_type": "slide"
    }
   },
   "source": [
    "### To get the solution strings, let's run the circuit with optimal parameters"
   ]
  },
  {
   "cell_type": "code",
   "execution_count": 15,
   "metadata": {},
   "outputs": [
    {
     "name": "stdout",
     "output_type": "stream",
     "text": [
      "{'01010': 15, '00011': 202, '00100': 19, '11111': 25, '11110': 45, '10011': 22, '11100': 205, '01101': 29, '10001': 23, '00010': 27, '10010': 21, '11011': 17, '10110': 15, '10101': 16, '11010': 21, '01100': 15, '01110': 18, '10000': 22, '00000': 21, '00101': 15, '11001': 17, '11000': 25, '10100': 13, '00111': 17, '00001': 43, '00110': 17, '01001': 18, '11101': 21, '01111': 12, '10111': 20, '01011': 15, '01000': 13}\n"
     ]
    }
   ],
   "source": [
    "optimal_theta = res_sample['x']\n",
    "qc = get_qaoa_circuit(G, optimal_theta[:p], optimal_theta[p:])\n",
    "pm = generate_preset_pass_manager(backend=aer, optimization_level=1)\n",
    "isa_qc = pm.run(qc)\n",
    "sampler = Sampler(backend=aer)\n",
    "counts = invert_counts(sampler.run([isa_qc]).result()[0].data.c.get_counts())\n",
    "print(counts)\n",
    "\n",
    "# Toont de resultaten van de QAOA\n",
    "# Rechts is de frequentie. Hoogste frequentie is de beste oplossing. En klopt, want de max_cut oplossing is drie links en twee rechts (de bits)"
   ]
  },
  {
   "cell_type": "markdown",
   "metadata": {
    "slideshow": {
     "slide_type": "slide"
    }
   },
   "source": [
    "### How good are there results?"
   ]
  },
  {
   "cell_type": "code",
   "execution_count": 16,
   "metadata": {},
   "outputs": [
    {
     "data": {
      "text/plain": [
       "<BarContainer object of 5 artists>"
      ]
     },
     "execution_count": 16,
     "metadata": {},
     "output_type": "execute_result"
    },
    {
     "data": {
      "image/png": "[encoded data removed]",
      "text/plain": [
       "<Figure size 640x480 with 1 Axes>"
      ]
     },
     "metadata": {},
     "output_type": "display_data"
    }
   ],
   "source": [
    "energies = defaultdict(int)\n",
    "for k, v in counts.items():\n",
    "    energies[maxcut_obj(k,G)] += v\n",
    "\n",
    "x,y = zip(*energies.items())\n",
    "plt.bar(x,y)"
   ]
  },
  {
   "cell_type": "markdown",
   "metadata": {},
   "source": [
    "Pretty good! Most of the results we get correspond to good solutions!"
   ]
  },
  {
   "cell_type": "code",
   "execution_count": 17,
   "metadata": {
    "slideshow": {
     "slide_type": "slide"
    }
   },
   "outputs": [
    {
     "name": "stdout",
     "output_type": "stream",
     "text": [
      "Best string: 00011 with cut: 6\n"
     ]
    },
    {
     "data": {
      "image/png": "[encoded data removed]",
      "text/plain": [
       "<Figure size 640x480 with 1 Axes>"
      ]
     },
     "metadata": {},
     "output_type": "display_data"
    }
   ],
   "source": [
    "# get the best solution:\n",
    "best_cut, best_solution = min([(maxcut_obj(x,G),x) for x in counts.keys()], key=itemgetter(0))\n",
    "print(f\"Best string: {best_solution} with cut: {-best_cut}\")\n",
    "\n",
    "# color the graph nodes by part\n",
    "colors = ['r' if best_solution[node] == '0' else 'b' for node in G]\n",
    "nx.draw(G,node_color = colors, pos=nx.bipartite_layout(G, [0,1,2]))"
   ]
  },
  {
   "cell_type": "markdown",
   "metadata": {
    "slideshow": {
     "slide_type": "slide"
    }
   },
   "source": [
    "### Using statevector simulator\n",
    "\n",
    "What if you want to get the full QAOA state? Luckily, Qiskit provides `statevector_simulator` backend. \n",
    "\n",
    "### What is a state vector?\n",
    "\n",
    "State vector is a vector of amplitudes, e.g.: $\\frac{1}{\\sqrt{2}}\\bigg(|00\\rangle + |11\\rangle\\bigg) \\rightarrow (\\frac{1}{\\sqrt{2}}, 0, 0, \\frac{1}{\\sqrt{2}})$"
   ]
  },
  {
   "cell_type": "code",
   "execution_count": 18,
   "metadata": {},
   "outputs": [
    {
     "name": "stdout",
     "output_type": "stream",
     "text": [
      "Statevector([0.70710678+0.j, 0.        +0.j, 0.        +0.j,\n",
      "             0.70710678+0.j],\n",
      "            dims=(2, 2))\n"
     ]
    }
   ],
   "source": [
    "from qiskit_aer import StatevectorSimulator\n",
    "\n",
    "qc = QuantumCircuit(2)\n",
    "qc.h(0)\n",
    "qc.cx(0,1)\n",
    "result = StatevectorSimulator().run([qc]).result().results[0].data.statevector \n",
    "result"
   ]
  },
  {
   "cell_type": "markdown",
   "metadata": {
    "slideshow": {
     "slide_type": "slide"
    }
   },
   "source": [
    "Less luckily, qubit ordering considerations still apply. Below are some helper functions we're going to use."
   ]
  },
  {
   "cell_type": "code",
   "execution_count": 19,
   "metadata": {},
   "outputs": [],
   "source": [
    "# Endianness conversion tools from https://github.com/Qiskit/qiskit-terra/issues/1148#issuecomment-438574708\n",
    "\n",
    "import numpy as np\n",
    "\n",
    "def state_num2str(basis_state_as_num, nqubits):\n",
    "    return '{0:b}'.format(basis_state_as_num).zfill(nqubits)\n",
    "\n",
    "def state_str2num(basis_state_as_str):\n",
    "    return int(basis_state_as_str, 2)\n",
    "\n",
    "def state_reverse(basis_state_as_num, nqubits):\n",
    "    basis_state_as_str = state_num2str(basis_state_as_num, nqubits)\n",
    "    new_str = basis_state_as_str[::-1]\n",
    "    return state_str2num(new_str)\n",
    "\n",
    "def get_adjusted_state(state):\n",
    "    nqubits = np.log2(state.shape[0])\n",
    "    if nqubits % 1:\n",
    "        raise ValueError(\"Input vector is not a valid statevector for qubits.\")\n",
    "    nqubits = int(nqubits)\n",
    "\n",
    "    adjusted_state = np.zeros(2**nqubits, dtype=complex)\n",
    "    for basis_state in range(2**nqubits):\n",
    "         adjusted_state[state_reverse(basis_state, nqubits)] = state[basis_state]\n",
    "    return adjusted_state"
   ]
  },
  {
   "cell_type": "markdown",
   "metadata": {
    "slideshow": {
     "slide_type": "slide"
    }
   },
   "source": [
    "### Running using full-state (`statevector`) simulator\n",
    "\n",
    "Note that a few things are different when using the full statevector simulator. First, we must not measure. Second, as the result, we get amplitudes instead of samples."
   ]
  },
  {
   "cell_type": "code",
   "execution_count": 20,
   "metadata": {},
   "outputs": [],
   "source": [
    "def get_qaoa_circuit_sv(G, beta, gamma):\n",
    "    assert(len(beta) == len(gamma))\n",
    "    p = len(beta) # infering number of QAOA steps from the parameters passed\n",
    "    N = G.number_of_nodes()\n",
    "    qc = QuantumCircuit(N,N)\n",
    "    # first, apply a layer of Hadamards\n",
    "    qc.h(range(N))\n",
    "    # second, apply p alternating operators\n",
    "    for i in range(p):\n",
    "        append_cost_operator_circuit(qc, G, beta[i])\n",
    "        append_mixer_operator_circuit(qc, G, gamma[i])\n",
    "    # no measurement in the end!\n",
    "    return qc"
   ]
  },
  {
   "cell_type": "markdown",
   "metadata": {
    "slideshow": {
     "slide_type": "slide"
    }
   },
   "source": [
    "Second, we need to get which amplitudes correspond to which computational basis states (= binary strings)"
   ]
  },
  {
   "cell_type": "code",
   "execution_count": 21,
   "metadata": {},
   "outputs": [],
   "source": [
    "def state_to_ampl_counts(vec, eps=1e-15):\n",
    "    \"\"\"Converts a statevector to a dictionary\n",
    "    of bitstrings and corresponding amplitudes\n",
    "    \"\"\"\n",
    "    qubit_dims = np.log2(vec.shape[0])\n",
    "    if qubit_dims % 1:\n",
    "        raise ValueError(\"Input vector is not a valid statevector for qubits.\")\n",
    "    qubit_dims = int(qubit_dims)\n",
    "    counts = {}\n",
    "    str_format = '0{}b'.format(qubit_dims)\n",
    "    for kk in range(vec.shape[0]):\n",
    "        val = vec[kk]\n",
    "        if val.real**2+val.imag**2 > eps:\n",
    "            counts[format(kk, str_format)] = val\n",
    "    return counts\n"
   ]
  },
  {
   "cell_type": "markdown",
   "metadata": {
    "slideshow": {
     "slide_type": "slide"
    }
   },
   "source": [
    "Let's try plugging in the optimal parameters we found using the QASM simulator"
   ]
  },
  {
   "cell_type": "code",
   "execution_count": 24,
   "metadata": {},
   "outputs": [
    {
     "data": {
      "text/plain": [
       "{'00000': (0.12488563310562653-0.008066572304009863j),\n",
       " '00001': (-0.05669660625844213+0.11322988695879406j),\n",
       " '00010': (-0.05669660625844214+0.113229886958794j),\n",
       " '00011': (-0.3732134559699178+0.46905416255484744j),\n",
       " '00100': (0.029280165553747177-0.09195117390830218j),\n",
       " '00101': (-0.002133689620675219+0.09216099744950398j),\n",
       " '00110': (-0.002133689620675215+0.0921609974495041j),\n",
       " '00111': (0.04596651512007488+0.050670108018134964j),\n",
       " '01000': (0.029280165553747257-0.09195117390830225j),\n",
       " '01001': (-0.0021336896206752116+0.09216099744950407j),\n",
       " '01010': (-0.002133689620675263+0.09216099744950411j),\n",
       " '01011': (0.04596651512007493+0.05067010801813501j),\n",
       " '01100': (0.0459665151200749+0.05067010801813515j),\n",
       " '01101': (-0.0021336896206752996+0.09216099744950412j),\n",
       " '01110': (-0.0021336896206752666+0.0921609974495041j),\n",
       " '01111': (0.029280165553747402-0.09195117390830229j),\n",
       " '10000': (0.029280165553747333-0.0919511739083022j),\n",
       " '10001': (-0.002133689620675289+0.0921609974495041j),\n",
       " '10010': (-0.0021336896206752788+0.09216099744950405j),\n",
       " '10011': (0.045966515120074845+0.05067010801813506j),\n",
       " '10100': (0.04596651512007481+0.05067010801813502j),\n",
       " '10101': (-0.0021336896206752966+0.09216099744950403j),\n",
       " '10110': (-0.0021336896206752293+0.09216099744950403j),\n",
       " '10111': (0.02928016555374727-0.09195117390830228j),\n",
       " '11000': (0.04596651512007488+0.05067010801813501j),\n",
       " '11001': (-0.0021336896206752935+0.09216099744950396j),\n",
       " '11010': (-0.0021336896206752406+0.09216099744950397j),\n",
       " '11011': (0.02928016555374719-0.09195117390830222j),\n",
       " '11100': (-0.3732134559699176+0.46905416255484744j),\n",
       " '11101': (-0.05669660625844212+0.11322988695879409j),\n",
       " '11110': (-0.05669660625844206+0.11322988695879398j),\n",
       " '11111': (0.12488563310562646-0.008066572304009692j)}"
      ]
     },
     "execution_count": 24,
     "metadata": {},
     "output_type": "execute_result"
    }
   ],
   "source": [
    "qc = get_qaoa_circuit_sv(G, optimal_theta[:p], optimal_theta[p:])\n",
    "sv = get_adjusted_state(np.asarray(StatevectorSimulator().run([qc]).result().results[0].data.statevector))\n",
    "state_to_ampl_counts(sv)"
   ]
  },
  {
   "cell_type": "markdown",
   "metadata": {
    "slideshow": {
     "slide_type": "slide"
    }
   },
   "source": [
    "### Let's verify that we get the same energy"
   ]
  },
  {
   "cell_type": "code",
   "execution_count": 25,
   "metadata": {},
   "outputs": [
    {
     "data": {
      "text/plain": [
       "-5.034039804377956"
      ]
     },
     "execution_count": 25,
     "metadata": {},
     "output_type": "execute_result"
    }
   ],
   "source": [
    "def compute_maxcut_energy_sv(sv, G):\n",
    "    \"\"\"Compute objective from statevector\n",
    "    For large number of qubits, this is slow. \n",
    "    \"\"\"\n",
    "    counts = state_to_ampl_counts(sv)\n",
    "    return sum(maxcut_obj(np.array([int(x) for x in k]), G) * (np.abs(v)**2) for k, v in counts.items())\n",
    "\n",
    "compute_maxcut_energy_sv(sv, G)"
   ]
  },
  {
   "cell_type": "markdown",
   "metadata": {},
   "source": [
    "Yay! Energy matches"
   ]
  },
  {
   "cell_type": "markdown",
   "metadata": {
    "slideshow": {
     "slide_type": "slide"
    }
   },
   "source": [
    "### Now, we can run the full optimization loop with the statevector simulator"
   ]
  },
  {
   "cell_type": "code",
   "execution_count": 26,
   "metadata": {},
   "outputs": [],
   "source": [
    "def get_black_box_objective_sv(G,p):\n",
    "    def f(theta):\n",
    "        # let's assume first half is betas, second half is gammas\n",
    "        beta = theta[:p]\n",
    "        gamma = theta[p:]\n",
    "        qc = get_qaoa_circuit_sv(G,beta, gamma)\n",
    "        sv = np.asarray(StatevectorSimulator().run([qc]).result().results[0].data.statevector)\n",
    "        # return the energy\n",
    "        return compute_maxcut_energy_sv(get_adjusted_state(sv), G)\n",
    "    return f"
   ]
  },
  {
   "cell_type": "markdown",
   "metadata": {
    "slideshow": {
     "slide_type": "slide"
    }
   },
   "source": [
    "Copying and pasting the code for the `qasm_simulator`..."
   ]
  },
  {
   "cell_type": "code",
   "execution_count": 27,
   "metadata": {},
   "outputs": [
    {
     "data": {
      "text/plain": [
       " message: Maximum number of function evaluations has been exceeded.\n",
       " success: False\n",
       "  status: 2\n",
       "     fun: -5.956671254553086\n",
       "       x: [ 2.031e+00  2.144e+00  1.912e+00  1.461e+00  1.231e+00\n",
       "            2.374e+00  6.336e+00  1.477e+00  3.594e+00  5.792e+00]\n",
       "    nfev: 500\n",
       "   maxcv: 0.0"
      ]
     },
     "execution_count": 27,
     "metadata": {},
     "output_type": "execute_result"
    }
   ],
   "source": [
    "# p is the number of QAOA alternating operators\n",
    "p = 5\n",
    "obj = get_black_box_objective_sv(G, p)\n",
    "\n",
    "init_point = np.array([0.81069872, 2.2067517 , 0.83830696, 2.15579759, 0.37060699,\n",
    "       2.42068091, 6.1575306 , 2.2453419 , 3.85060091, 6.137845  ])\n",
    "# We are going to limit the number of iterations to 2500\n",
    "res_sv = minimize(obj, init_point, method='COBYLA', options={'maxiter':500, 'disp': True})\n",
    "res_sv"
   ]
  },
  {
   "cell_type": "markdown",
   "metadata": {
    "slideshow": {
     "slide_type": "slide"
    }
   },
   "source": [
    "We get **much better solution** if we have access to the full state vector! In fact, if we run it long enough, we will get arbitratily close to the true optimum (to verify it yourself, try setting `'maxiter':10000` above)"
   ]
  },
  {
   "cell_type": "code",
   "execution_count": 28,
   "metadata": {},
   "outputs": [
    {
     "name": "stdout",
     "output_type": "stream",
     "text": [
      "Best energy with samples: -4.0420, with full state vector: -5.9567\n"
     ]
    }
   ],
   "source": [
    "print(f\"Best energy with samples: {res_sample['fun']:.4f}, with full state vector: {res_sv['fun']:.4f}\")"
   ]
  },
  {
   "cell_type": "markdown",
   "metadata": {
    "slideshow": {
     "slide_type": "fragment"
    }
   },
   "source": [
    "This is because with samples we get stuck in a lower quality point:"
   ]
  },
  {
   "cell_type": "code",
   "execution_count": 29,
   "metadata": {},
   "outputs": [
    {
     "name": "stdout",
     "output_type": "stream",
     "text": [
      "Angles found with samples: beta=[1.85554199 2.08857947 0.88911967 2.01150715 0.360965  ], gamma=[2.52800155 6.13790686 2.42148222 3.93991794 5.99555954]\n",
      "Angles found with full state: beta=[2.03092186 2.14354264 1.91171741 1.46131289 1.23145139], gamma=[2.37402382 6.33636384 1.47675688 3.59410584 5.792071  ]\n"
     ]
    }
   ],
   "source": [
    "print(f\"Angles found with samples: beta={res_sample['x'][:p]}, gamma={res_sample['x'][p:]}\")\n",
    "print(f\"Angles found with full state: beta={res_sv['x'][:p]}, gamma={res_sv['x'][p:]}\")"
   ]
  },
  {
   "cell_type": "markdown",
   "metadata": {},
   "source": [
    "Note that these are two different points!"
   ]
  },
  {
   "cell_type": "markdown",
   "metadata": {
    "slideshow": {
     "slide_type": "slide"
    }
   },
   "source": [
    "An important point to make is that this is **not a local minimum** that COBYLA gets stuck in when using the sampling. We can easily verify that by running COBYLA with full state from that point"
   ]
  },
  {
   "cell_type": "code",
   "execution_count": 30,
   "metadata": {},
   "outputs": [
    {
     "data": {
      "text/plain": [
       " message: Maximum number of function evaluations has been exceeded.\n",
       " success: False\n",
       "  status: 2\n",
       "     fun: -5.842897151987479\n",
       "       x: [ 1.719e+00  2.051e+00  9.209e-01  2.011e+00  4.126e-01\n",
       "            2.510e+00  6.108e+00  2.364e+00  3.986e+00  5.936e+00]\n",
       "    nfev: 50\n",
       "   maxcv: 0.0"
      ]
     },
     "execution_count": 30,
     "metadata": {},
     "output_type": "execute_result"
    }
   ],
   "source": [
    "# p is the number of QAOA alternating operators\n",
    "p = 5\n",
    "obj = get_black_box_objective_sv(G, p)\n",
    "\n",
    "init_point = res_sample['x']\n",
    "# 'rhobeg' controls initial changes to the variables. \n",
    "# We set it low to make sure we are searching a small neighborhood of the optimal point\n",
    "res_sv2 = minimize(obj, init_point, method='COBYLA', options={'maxiter':50, 'disp': True, 'rhobeg': 0.01})\n",
    "res_sv2"
   ]
  },
  {
   "cell_type": "markdown",
   "metadata": {},
   "source": [
    "The lesson here is that our simple deterministic optimizers (like COBYLA) assume that *every function value they get is true*. This causes them to thing that a point is a local minimum, when in fact it is not. We have to bake the assumption of stochaisticity into the optimizers we use!"
   ]
  }
 ],
 "metadata": {
  "celltoolbar": "Slideshow",
  "kernelspec": {
   "display_name": ".env",
   "language": "python",
   "name": "python3"
  },
  "language_info": {
   "codemirror_mode": {
    "name": "ipython",
    "version": 3
   },
   "file_extension": ".py",
   "mimetype": "text/x-python",
   "name": "python",
   "nbconvert_exporter": "python",
   "pygments_lexer": "ipython3",
   "version": "3.12.2"
  }
 },
 "nbformat": 4,
 "nbformat_minor": 4
}
